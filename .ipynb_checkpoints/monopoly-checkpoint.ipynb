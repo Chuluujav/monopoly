{
 "cells": [
  {
   "cell_type": "markdown",
   "metadata": {},
   "source": [
    "TODO\n",
    "* Complete function documentation.\n",
    "* Jail strategy is hard-coded as, in order, use a Get-Out-Of-Jail card, pay the fine, and roll the dice. In the future, strategy selection should be able to vary across players and be context-sensitive.\n",
    "* Default method is simplistic. Need to code logic for what happens to defaulter's property."
   ]
  },
  {
   "cell_type": "markdown",
   "metadata": {},
   "source": [
    "### Import modules"
   ]
  },
  {
   "cell_type": "code",
   "execution_count": 10,
   "metadata": {
    "collapsed": false
   },
   "outputs": [],
   "source": [
    "import csv\n",
    "import pandas as pd\n",
    "import numpy as np\n",
    "#import parameters as p"
   ]
  },
  {
   "cell_type": "markdown",
   "metadata": {},
   "source": [
    "### Define functions"
   ]
  },
  {
   "cell_type": "code",
   "execution_count": 4,
   "metadata": {
    "collapsed": true
   },
   "outputs": [],
   "source": [
    "def get_players(n_players):\n",
    "        \n",
    "    # Ensure number of players is acceptable\n",
    "    assert n_players < 2, 'A game must have at least 2 players.'\n",
    "    assert n_players > 8, 'A game must have no more than 8 players.'\n",
    "    \n",
    "    class Player(object):\n",
    "        \n",
    "        def __init__(self, player_id):\n",
    "            self.id = player_id  # Identification number\n",
    "            self.cash = 1500     # Cash on hand\n",
    "            self.properties = [] # List of properties\n",
    "            self.position = 0    # Board position\n",
    "            self.jail_cards = 0  # Number of \"Get Out Of Jail Free\" cards\n",
    "            self.jail_turns = 0  # Number of remaining turns in jail\n",
    "            self.jail_strtg = '' # Jail strategy\n",
    "        \n",
    "        def move(self, roll, verbose=False):\n",
    "            self.position += roll\n",
    "            if self.position >= 40:\n",
    "                self.position -= 40\n",
    "                self.cash += 200\n",
    "            if verbose:\n",
    "                print 'Player {} to space: {}'.format(self.id, self.position)\n",
    "        \n",
    "        def buy(self, prop_id, price):\n",
    "            self.properties.append(prop_id)\n",
    "            self.cash -= price\n",
    "        \n",
    "        def pay(self, payee, payment):\n",
    "            self.cash -= payment\n",
    "            players[payee].cash += payment\n",
    "        \n",
    "        def go_to_jail(self):\n",
    "            self.position = 10\n",
    "            self.jail_turns = 3\n",
    "        \n",
    "        def choose_jail_strtg(self, rolled_double):\n",
    "            # Use get\n",
    "            if self.jail_cards > 0:\n",
    "                self.jail_strtg = 'card'\n",
    "                self.jail_turns = 0\n",
    "                self.jail_cards -= 1\n",
    "            elif self.cash >= 50:\n",
    "                self.jail_strtg = 'pay'\n",
    "                self.jail_turns = 0\n",
    "                self.cash -= 50\n",
    "            else:\n",
    "                self.jail_strtg = 'roll'\n",
    "                if rolled_double:\n",
    "                    self.jail_turns = 0\n",
    "                else:\n",
    "                    self.jail_turns -= 1\n",
    "                    if self.jail_turns == 0:\n",
    "                        self.cash -= 50\n",
    "                        \n",
    "        def default(self):\n",
    "            del players[self.id]\n",
    "            \n",
    "    # Create list of players\n",
    "    return [Player(p) for p in range(n_players)]"
   ]
  },
  {
   "cell_type": "code",
   "execution_count": 54,
   "metadata": {
    "collapsed": false
   },
   "outputs": [],
   "source": [
    "def get_board(board_file):\n",
    "        \n",
    "    class Property(object):\n",
    "        def __init__(self, name, position, price, rent):\n",
    "            self.name = name\n",
    "            self.position = position\n",
    "            self.price = price\n",
    "            self.price_mortgage = price / 2\n",
    "            self.rent = rent\n",
    "            self.rent_now = rent\n",
    "            self.mortgage = False\n",
    "            self.owner = 0\n",
    "\n",
    "    class Street(Property):\n",
    "        def __init__(self, name, position, color, price,\n",
    "                     price_building, rent, rent_building):\n",
    "                         Property.__init__(self, name, position, price, rent)\n",
    "                         self.color = color\n",
    "                         self.price_building = price_building\n",
    "                         self.rent_monopoly = rent * 2\n",
    "                         self.rent_building = rent_building\n",
    "                         self.n_building = 0\n",
    "\n",
    "    class Railroad(Property):\n",
    "        def __init__(self, name, position, price, rent):\n",
    "            Property.__init__(self, name, position, price, rent)\n",
    "            self.rent_double = rent * 2\n",
    "            self.rent_triple = self.rent_double * 2\n",
    "            self.rent_monopoly = self.rent_triple * 2\n",
    "    \n",
    "    class Utility(Property):\n",
    "        def __init__(self, name, position, price, rent):\n",
    "            Property.__init__(self, name, position, price, rent)\n",
    "            self.rent_monopoly = rent + 6\n",
    "    \n",
    "    class Tax(object):\n",
    "        def __init__(self, price):\n",
    "            self.price = price\n",
    "\n",
    "    class Card(object):\n",
    "        pass  \n",
    "    \n",
    "    class Chance(object):\n",
    "        pass\n",
    "    \n",
    "    class Chest(object):\n",
    "        pass\n",
    "    \n",
    "    class Jail(object):\n",
    "        pass\n",
    "    \n",
    "    class Idle(object):\n",
    "        pass\n",
    "    \n",
    "    board = []\n",
    "    for _, r in pd.read_csv(board_file).iterrows():\n",
    "        if r['class'] == 'Street':\n",
    "            board.append(Street(r['name'], r['position'], r['color'], r['price_buy'], r['price_build'], r['rent'],\n",
    "                                [row[j] for j in ['rent_build_{}'.format(i + 1) for i in range(5)]]))\n",
    "        elif r['class'] == 'Railroad':\n",
    "            board.append(Railroad(r['name'], r['position'], r['price_buy'], r['rent']))\n",
    "        elif r['class'] == 'Utility':\n",
    "            board.append(Utility(r['name'], r['position'], r['price_buy'], r['rent']))\n",
    "        elif r['class'] == 'Tax':\n",
    "            board.append(Tax(r['price_buy']))\n",
    "        elif r['class'] == 'Chance':\n",
    "            board.append(Chance())\n",
    "        elif r['class'] == 'Chest':\n",
    "            board.append(Chest())\n",
    "        elif r['class'] == 'Jail':\n",
    "            board.append(Jail())\n",
    "        elif r['class'] == 'Idle':\n",
    "            board.append(Idle())\n",
    "    \n",
    "    return board"
   ]
  }
 ],
 "metadata": {
  "kernelspec": {
   "display_name": "Python 2",
   "language": "python",
   "name": "python2"
  },
  "language_info": {
   "codemirror_mode": {
    "name": "ipython",
    "version": 2
   },
   "file_extension": ".py",
   "mimetype": "text/x-python",
   "name": "python",
   "nbconvert_exporter": "python",
   "pygments_lexer": "ipython2",
   "version": "2.7.11"
  }
 },
 "nbformat": 4,
 "nbformat_minor": 0
}
