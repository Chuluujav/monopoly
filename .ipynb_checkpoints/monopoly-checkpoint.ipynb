{
 "cells": [
  {
   "cell_type": "markdown",
   "metadata": {},
   "source": [
    "TODO\n",
    "* Complete function documentation.\n",
    "* Jail strategy is hard-coded as, in order, use a Get-Out-Of-Jail card, pay the fine, and roll the dice. In the future, strategy selection should be able to vary across players and be context-sensitive.\n",
    "* Default method is simplistic. Need to code logic for what happens to defaulter's property."
   ]
  },
  {
   "cell_type": "markdown",
   "metadata": {},
   "source": [
    "### Import modules"
   ]
  },
  {
   "cell_type": "code",
   "execution_count": 10,
   "metadata": {
    "collapsed": false
   },
   "outputs": [],
   "source": [
    "import csv\n",
    "import pandas as pd\n",
    "import numpy as np\n",
    "#import parameters as p"
   ]
  },
  {
   "cell_type": "markdown",
   "metadata": {},
   "source": [
    "### Define functions"
   ]
  },
  {
   "cell_type": "code",
   "execution_count": 62,
   "metadata": {
    "collapsed": true
   },
   "outputs": [],
   "source": [
    "def get_players(n_players):\n",
    "        \n",
    "    assert n_players > 2, 'A game must have at least 2 players.'\n",
    "    assert n_players < 8, 'A game must have no more than 8 players.'\n",
    "    \n",
    "    class Player(object):\n",
    "        \n",
    "        def __init__(self, player_id):\n",
    "            self.id = player_id  # Identification number\n",
    "            self.cash = 1500     # Cash on hand\n",
    "            self.properties = [] # List of properties\n",
    "            self.position = 0    # Board position\n",
    "            self.jail_cards = 0  # Number of \"Get Out Of Jail Free\" cards\n",
    "            self.jail_turns = 0  # Number of remaining turns in jail\n",
    "            self.jail_strtg = '' # Jail strategy\n",
    "        \n",
    "        def move(self, roll, verbose=False):\n",
    "            self.position += roll\n",
    "            if self.position >= 40:\n",
    "                self.position -= 40\n",
    "                self.cash += 200\n",
    "            if verbose:\n",
    "                print 'Player {} to space: {}'.format(self.id, self.position)\n",
    "        \n",
    "        def buy(self, prop_id, price):\n",
    "            self.properties.append(prop_id)\n",
    "            self.cash -= price\n",
    "        \n",
    "        def pay(self, payee, payment):\n",
    "            self.cash -= payment\n",
    "            players[payee].cash += payment\n",
    "        \n",
    "        def go_to_jail(self):\n",
    "            self.position = 10\n",
    "            self.jail_turns = 3\n",
    "        \n",
    "        def choose_jail_strtg(self, rolled_double):\n",
    "            if self.jail_cards > 0:\n",
    "                self.jail_strtg = 'card'\n",
    "                self.jail_turns = 0\n",
    "                self.jail_cards -= 1\n",
    "            elif self.cash >= 50:\n",
    "                self.jail_strtg = 'pay'\n",
    "                self.jail_turns = 0\n",
    "                self.cash -= 50\n",
    "            else:\n",
    "                self.jail_strtg = 'roll'\n",
    "                if rolled_double:\n",
    "                    self.jail_turns = 0\n",
    "                else:\n",
    "                    self.jail_turns -= 1\n",
    "                    if self.jail_turns == 0:\n",
    "                        self.cash -= 50\n",
    "                        \n",
    "        def default(self):\n",
    "            del players[self.id]\n",
    "            \n",
    "    return [Player(p) for p in range(n_players)]"
   ]
  },
  {
   "cell_type": "code",
   "execution_count": 60,
   "metadata": {
    "collapsed": false
   },
   "outputs": [],
   "source": [
    "def get_board(board_file):\n",
    "        \n",
    "    class Property(object):\n",
    "        def __init__(self, name, position, price, rent):\n",
    "            self.name = name\n",
    "            self.position = position\n",
    "            self.price = price\n",
    "            self.price_mortgage = price / 2\n",
    "            self.rent = rent\n",
    "            self.rent_now = rent\n",
    "            self.mortgage = False\n",
    "            self.owner = 0\n",
    "\n",
    "    class Street(Property):\n",
    "        def __init__(self, name, position, color, price,\n",
    "                     price_building, rent, rent_building):\n",
    "                         Property.__init__(self, name, position, price, rent)\n",
    "                         self.color = color\n",
    "                         self.price_building = price_building\n",
    "                         self.rent_monopoly = rent * 2\n",
    "                         self.rent_building = rent_building\n",
    "                         self.n_building = 0\n",
    "\n",
    "    class Railroad(Property):\n",
    "        def __init__(self, name, position, price, rent):\n",
    "            Property.__init__(self, name, position, price, rent)\n",
    "            self.rent_double = rent * 2\n",
    "            self.rent_triple = self.rent_double * 2\n",
    "            self.rent_monopoly = self.rent_triple * 2\n",
    "    \n",
    "    class Utility(Property):\n",
    "        def __init__(self, name, position, price, rent):\n",
    "            Property.__init__(self, name, position, price, rent)\n",
    "            self.rent_monopoly = rent + 6\n",
    "    \n",
    "    class Tax(object):\n",
    "        def __init__(self, price):\n",
    "            self.price = price\n",
    "\n",
    "    class Card(object):\n",
    "        pass  \n",
    "    \n",
    "    class Chance(object):\n",
    "        pass\n",
    "    \n",
    "    class Chest(object):\n",
    "        pass\n",
    "    \n",
    "    class Jail(object):\n",
    "        pass\n",
    "    \n",
    "    class Idle(object):\n",
    "        pass\n",
    "    \n",
    "    board = []\n",
    "    \n",
    "    for _, r in pd.read_csv(board_file).iterrows():\n",
    "        for case in switch(r['class']):\n",
    "            if case('Street'):                \n",
    "                board.append(Street(r['name'], r['position'], r['color'], r['price_buy'],\n",
    "                                    r['price_build'], r['rent'], r['rent_build_1'], r['rent_build_2'],\n",
    "                                    r['rent_build_3'], r['rent_build_4'], r['rent_build_5']))\n",
    "            elif case('Railroad'):\n",
    "                board.append(Railroad(r['name'], r['position'], r['price_buy'], r['rent']))\n",
    "            elif case('Utility'):\n",
    "                board.append(Utility(r['name'], r['position'], r['price_buy'], r['rent']))\n",
    "            elif case('Tax'):\n",
    "                board.append(Tax(r['price_buy']))\n",
    "            elif case('Chance'):\n",
    "                board.append(Chance())\n",
    "            elif case('Chest'):\n",
    "                board.append(Chest())\n",
    "            elif case('Jail'):\n",
    "                board.append(Jail())\n",
    "            elif case('Idle'):\n",
    "                board.append(Idle())\n",
    "    \n",
    "    return board"
   ]
  },
  {
   "cell_type": "code",
   "execution_count": 57,
   "metadata": {
    "collapsed": true
   },
   "outputs": [],
   "source": [
    "def roll_dice(check_double=True, verbose=False):\n",
    "\n",
    "    roll = np.random.choice(np.arange(1, 7), 2)\n",
    "    \n",
    "    if verbose:\n",
    "        print 'Die roll: {} and {}'.format(roll[0], roll[1])\n",
    "    \n",
    "    if check_double:\n",
    "        return roll.sum(), roll[0] == roll[1]\n",
    "    else:\n",
    "        return roll.sum()"
   ]
  },
  {
   "cell_type": "code",
   "execution_count": 58,
   "metadata": {
    "collapsed": true
   },
   "outputs": [],
   "source": [
    "class switch(object):\n",
    "    \n",
    "    def __init__(self, value):\n",
    "        self.value = value\n",
    "        self.fall = False\n",
    "\n",
    "    def __iter__(self):\n",
    "        \"\"\"Return the match method once, then stop\"\"\"\n",
    "        yield self.match\n",
    "        raise StopIteration\n",
    "    \n",
    "    def match(self, *args):\n",
    "        \"\"\"Indicate whether or not to enter a case suite\"\"\"\n",
    "        if self.fall or not args:\n",
    "            return True\n",
    "        elif self.value in args:\n",
    "            self.fall = True\n",
    "            return True\n",
    "        else:\n",
    "            return False"
   ]
  },
  {
   "cell_type": "markdown",
   "metadata": {},
   "source": [
    "### Play the game"
   ]
  },
  {
   "cell_type": "markdown",
   "metadata": {},
   "source": [
    "Get set"
   ]
  },
  {
   "cell_type": "code",
   "execution_count": 63,
   "metadata": {
    "collapsed": false
   },
   "outputs": [],
   "source": [
    "# Declarations\n",
    "n_players = 5\n",
    "board_file = 'board.csv'\n",
    "\n",
    "# Get players and board (including properties)\n",
    "players = get_players(n_players)\n",
    "board = get_board(board_file)\n",
    "\n",
    "# Start on round 1\n",
    "game_round = 1"
   ]
  },
  {
   "cell_type": "markdown",
   "metadata": {},
   "source": [
    "Go"
   ]
  },
  {
   "cell_type": "code",
   "execution_count": null,
   "metadata": {
    "collapsed": true
   },
   "outputs": [],
   "source": [
    "# Start game\n",
    "while len(players) > 1:\n",
    "\n",
    "    # Take turns\n",
    "    for turn in range(n_players):\n",
    "\n",
    "        # Double roll counter\n",
    "        n_double_roll = 0\n",
    "\n",
    "        # Continue turn until player rolls no doubles or goes to jail\n",
    "        while True:\n",
    "\n",
    "            # Roll dice\n",
    "            roll, rolled_double = roll_dice(verbose=False)\n",
    "\n",
    "            # Update double roll counter\n",
    "            n_double_roll += (rolled_double).astype(int)\n",
    "\n",
    "            # If player is in jail\n",
    "            if players[turn].jail_turns > 0:\n",
    "\n",
    "                # Select jail strategy\n",
    "                players[turn].choose_jail_strtg(rolled_double)\n",
    "\n",
    "                # If player is still in jail\n",
    "                if players[turn].jail_turns > 0:\n",
    "                    break\n",
    "\n",
    "            # If player rolled less than 3 doubles\n",
    "            if n_double_roll < 3:\n",
    "\n",
    "                # Move player \n",
    "                players[turn].move(roll, verbose=False)\n",
    "\n",
    "                # If no double rolled, end turn\n",
    "                if not rolled_double:\n",
    "                    break\n",
    "\n",
    "            # Otherwise, send player to jail and end turn\n",
    "            else:\n",
    "                players[turn].go_to_jail()\n",
    "                break\n",
    "\n",
    "            # Now here is where we start interacting with the board\n",
    "            type(board[4]).__name__\n",
    "            http://code.activestate.com/recipes/410692/\n",
    "\n",
    "    game_round += 1\n",
    "\n",
    "    if game_round == 20:\n",
    "        break\n",
    "\n",
    "    # sum values across list\n",
    "    # sum(players[i].cash for i in range(0,4))"
   ]
  }
 ],
 "metadata": {
  "kernelspec": {
   "display_name": "Python 2",
   "language": "python",
   "name": "python2"
  },
  "language_info": {
   "codemirror_mode": {
    "name": "ipython",
    "version": 2
   },
   "file_extension": ".py",
   "mimetype": "text/x-python",
   "name": "python",
   "nbconvert_exporter": "python",
   "pygments_lexer": "ipython2",
   "version": "2.7.11"
  }
 },
 "nbformat": 4,
 "nbformat_minor": 0
}
